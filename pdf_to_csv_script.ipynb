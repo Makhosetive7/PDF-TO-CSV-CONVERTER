{
 "cells": [
  {
   "cell_type": "code",
   "execution_count": 1,
   "metadata": {},
   "outputs": [],
   "source": [
    "import pandas as pd\n",
    "import PyPDF2\n",
    "import csv\n",
    "\n"
   ]
  },
  {
   "cell_type": "code",
   "execution_count": 2,
   "metadata": {},
   "outputs": [],
   "source": [
    "#merge all PDFs into one\n",
    "merger = PyPDF2.PdfMerger()\n",
    "merger.append('./dataFile/endocrine.pdf')\n",
    "merger.append('./dataFile/ent.pdf')\n",
    "merger.append('./dataFile/eye.pdf')\n",
    "merger.append('./dataFile/Gastrointestinal.pdf')\n",
    "merger.append('./dataFile/genetic.pdf')\n",
    "merger.append('./dataFile/immune.pdf')\n",
    "merger.append('./dataFile/Mneoplasm.pdf')\n",
    "merger.append('./dataFile/Neurologic.pdf')\n",
    "merger.append('./dataFile/ObGyn.pdf')\n",
    "merger.append('./dataFile/renal.pdf')\n",
    "merger.append('./dataFile/Respiratory.pdf')\n",
    "merger.append('./dataFile/Skin.pdf')\n",
    "merger.write('./dataFile/merged.pdf')"
   ]
  },
  {
   "cell_type": "code",
   "execution_count": 3,
   "metadata": {},
   "outputs": [],
   "source": [
    "inputFile = './dataFile/merged.pdf'\n",
    "outputFile = './diseaseAndSymptoms.csv'"
   ]
  },
  {
   "cell_type": "code",
   "execution_count": null,
   "metadata": {},
   "outputs": [],
   "source": [
    "#open PDF merged file\n",
    "with open(inputFile, 'rb') as file:\n",
    "    reader = PyPDF2.PdfReader(file)\n",
    "\n",
    "#open CSV file to write data\n",
    "    with open(outputFile, 'w', newline='', encoding='utf-8') as csvFile:\n",
    "        writer = csv.writer(csvFile)\n",
    "\n",
    "#extract text from each page   \n",
    "        for page in reader.pages:\n",
    "            text = page.extract_text()\n",
    "            print(text)\n",
    "            if text:\n",
    "                rows = text.split('\\n')\n",
    "                writer.writerows([[row] for row in rows]) \n",
    "\n",
    "        #output to CSV file\n",
    "        print(f\"Data successfully extracted to {outputFile}\")"
   ]
  }
 ],
 "metadata": {
  "kernelspec": {
   "display_name": "virtualEnviroment",
   "language": "python",
   "name": "python3"
  },
  "language_info": {
   "codemirror_mode": {
    "name": "ipython",
    "version": 3
   },
   "file_extension": ".py",
   "mimetype": "text/x-python",
   "name": "python",
   "nbconvert_exporter": "python",
   "pygments_lexer": "ipython3",
   "version": "3.11.9"
  }
 },
 "nbformat": 4,
 "nbformat_minor": 2
}
