{
 "cells": [
  {
   "cell_type": "code",
   "execution_count": 1,
   "metadata": {},
   "outputs": [],
   "source": [
    "import pandas as pd\n",
    "import PyPDF2\n",
    "import pdfplumber\n",
    "from tabulate import tabulate \n",
    "import csv"
   ]
  },
  {
   "cell_type": "code",
   "execution_count": 2,
   "metadata": {},
   "outputs": [],
   "source": [
    "inputFile = './dataFile/edliz.pdf'\n",
    "outputFile = './diseaseAndSymptoms.csv'"
   ]
  },
  {
   "cell_type": "code",
   "execution_count": null,
   "metadata": {},
   "outputs": [],
   "source": [
    "#convert PDF to text using PyPDF2 library\n",
    "\n",
    "#start and end page \n",
    "startPage = 17\n",
    "endPage = 432\n",
    "\n",
    "#open PDF merged file\n",
    "with open(inputFile, 'rb') as file:\n",
    "    reader = PyPDF2.PdfReader(file)\n",
    "\n",
    "#open CSV file to write data\n",
    "    with open(outputFile, 'w', newline='', encoding='utf-8') as csvFile:\n",
    "        writer = csv.writer(csvFile)\n",
    "\n",
    "#extract text from page range\n",
    "        for i in range(startPage, endPage):\n",
    "            text = reader.pages[i].extract_text()\n",
    "            print(text)\n",
    "            if text:\n",
    "                rows = text.split('\\n')\n",
    "                writer.writerows([[row] for row in rows])\n",
    "\"\"\"\n",
    "#extract text from each page   \n",
    "        for page in reader.pages:\n",
    "            text = page.extract_text()\n",
    "            print(text)\n",
    "            if text:\n",
    "                rows = text.split('\\n')\n",
    "                writer.writerows([[row] for row in rows]) \n",
    "\"\"\"\n",
    "\n",
    "#output to CSV file\n",
    "print(f\"Data successfully extracted to {outputFile}\")"
   ]
  }
 ],
 "metadata": {
  "kernelspec": {
   "display_name": "virtualEnviroment",
   "language": "python",
   "name": "python3"
  },
  "language_info": {
   "codemirror_mode": {
    "name": "ipython",
    "version": 3
   },
   "file_extension": ".py",
   "mimetype": "text/x-python",
   "name": "python",
   "nbconvert_exporter": "python",
   "pygments_lexer": "ipython3",
   "version": "3.11.9"
  }
 },
 "nbformat": 4,
 "nbformat_minor": 2
}
