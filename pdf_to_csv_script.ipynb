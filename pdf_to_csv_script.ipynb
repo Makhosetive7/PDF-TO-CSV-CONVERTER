{
 "cells": [
  {
   "cell_type": "code",
   "execution_count": 47,
   "metadata": {},
   "outputs": [],
   "source": [
    "import pandas as pd\n",
    "import PyPDF2\n",
    "import pdfplumber\n",
    "from tabulate import tabulate \n",
    "import csv"
   ]
  },
  {
   "cell_type": "code",
   "execution_count": 32,
   "metadata": {},
   "outputs": [],
   "source": [
    "inputFile = './dataFile/edliz.pdf'\n",
    "outputFile = './diseaseAndSymptoms.csv'"
   ]
  },
  {
   "cell_type": "code",
   "execution_count": 67,
   "metadata": {},
   "outputs": [
    {
     "name": "stdout",
     "output_type": "stream",
     "text": [
      "   \n",
      " 75 Nausea and Vomiting in Pregnancy If during the first trimester and if vomiting is not excessive, advise small frequent bland meals and drinks. Antacids may give symptomatic relief if gastritis is present. If vomiting persists, look for underlying cause e.g. urinary tract infection, molar pregnancy, and multiple pregnancies.  Give:  Medicine Codes Adult dose Frequency Duration  promethazine po C N 25mg  once at night* as required or chlorpheniramine po C E 4mg once at night* 5 days or metoclopramide C N 10mg 3 times a day  as required  *Note: If severe, the dose may be given two to three times a day. Hyperemesis Gravidarum (Vomiting and Dehydration) Admit or refer for intravenous fluids and give:  Medicine Codes Adult dose Frequency Duration  prochlorperazine im B E 12.5mg  twice a day as needed or promethazine im B V 25mg twice a day as needed  For reducing the risk of neural tube defects Medicine Codes Adult dose Frequency Duration folic acid po C E 5mg once a day   Preconceptionally and up to 3  months of pregnancy Anaemia during Pregnancy Prophylaxis in Antenatal Care  Medicine Codes Adult dose Frequency Duration  ferrous sulphate po C E 200mg once a day Throughout pregnancy and folic acid po C E 5mg once a week  Throughout pregnancy or Combined ferrous and folic acid po C E  Once daily Throughout pregnancy * Start at booking for antenatal care. Continue prophylaxis for 6 weeks after delivery. Also give dietary advice.  Treatment of Microcytic Anaemia \n",
      "EDLIZ 2015   \n",
      " 76 Before 36 weeks gestation:  Medicine Codes Adult dose Frequency Duration  ferrous sulphate po C E 200 3 times a day - and folic acid po C E 5mg once daily  - CAUTION: Iron preparations should be taken after food to avoid gastrointestinal irritation. If vomiting occurs, reduce dosage to that which can be tolerated. Severe anaemia in pregnancy requires full investigation: § stool for ova and parasites; § peripheral blood film for malarial parasites; § full blood count; § mid-stream specimen of urine for microscopy, culture and sensitivity; § and HIV test. Severe anaemia (Hb < 8 gms) after 36 weeks of gestation requires admission and possible transfusion, as well as oral iron therapy. (See the chapter on Blood).  Cardiac disease in Pregnancy Types of cardiac disease: n rheumatic heart disease accounts for over 95% of conditions n hypertension n puerperal cardiomyopathy n congenital heart disease n post-operative cardiac patients Antenatal Management The woman should be managed by a specialist obstetrician and physician together, and should be seen more frequently than usual. In the antenatal period avoid fluid overload, anaemia and infection. Any infection should be treated aggressively with the appropriate antibiotics. Treatment: See treatment of heart failure in the chapter on cardiovascular conditions. Anticoagulants for patients on long term anticoagulation (e.g. valve replacement) - warfarin should be avoided in the first trimester. Use heparin or low molecular weight heparin for the first 13 weeks, and change back to warfarin between weeks 13 – 37. After 37 weeks change back to heparin until after delivery. Warfarin can be commenced 24hrs after delivery. Labour in cardiac patients \n",
      "   \n",
      " 77 Cardiac disease patients should not be induced – they usually have easy vaginal deliveries, which can be assisted by forceps delivery or vacuum extraction to avoid stress.  § Give a single dose of ampicillin at the onset of labour:  Medicine Codes Adult dose Frequency Duration  ampicillin iv B V 1g once only single dose § Keep the resuscitation trolley at hand. § Nurse in a propped up position § Do not give ergometrine. Use oxytocin:  Medicine Codes Adult dose Frequency Duration   oxytocin  C V 10units once at delivery of the anterior shoulder n Post-natally keep the woman in high care for 24 hours. Contraception: At 6 weeks after delivery, use the progesterone only oral contraceptive or injectable medroxyprogesterone acetate. Hypertension in Pregnancy Women who develop hypertension during pregnancy (after 20 weeks) have pregnancy-induced hypertension (PIH) which is a potentially serious condition possibly requiring early or urgent delivery (see below).  Pregnant women who have essential hypertension may also develop superimposed PIH and merit the same treatment. Methyldopa is the recommended anti-hypertensive throughout pregnancy.  CAUTION: Avoid diuretic medicines during pregnancy. Essential Hypertension Monitor for development of proteinuria.  Medicine Codes Adult dose Frequency Duration  methyldopa po C V 250-500mg 3-4 times a day  review If not responding refer to district level, where a combination of methyldopa and nifedipine can be used:  Medicine Codes Adult dose Frequency Duration  methyldopa po C V 250-500mg 3-4 times a day  review and nifedipine SR po B V 20mg 2 times a day  review  Pregnancy Induced Hypertension  \n",
      "Data successfully extracted to ./diseaseAndSymptoms.csv\n"
     ]
    }
   ],
   "source": [
    "#convert PDF to text using PyPDF2 library\n",
    "\n",
    "#start and end page \n",
    "startPage = 90\n",
    "endPage = 93\n",
    "\n",
    "#open PDF merged file\n",
    "with open(inputFile, 'rb') as file:\n",
    "    reader = PyPDF2.PdfReader(file)\n",
    "\n",
    "#open CSV file to write data\n",
    "    with open(outputFile, 'w', newline='', encoding='utf-8') as csvFile:\n",
    "        writer = csv.writer(csvFile)\n",
    "\n",
    "#extract text from page range\n",
    "        for i in range(startPage, endPage):\n",
    "            text = reader.pages[i].extract_text()\n",
    "            print(text)\n",
    "            if text:\n",
    "                rows = text.split('\\n')\n",
    "                writer.writerows([[row] for row in rows])\n",
    "\"\"\"\n",
    "#extract text from each page   \n",
    "        for page in reader.pages:\n",
    "            text = page.extract_text()\n",
    "            print(text)\n",
    "            if text:\n",
    "                rows = text.split('\\n')\n",
    "                writer.writerows([[row] for row in rows]) \n",
    "\"\"\"\n",
    "\n",
    "#output to CSV file\n",
    "print(f\"Data successfully extracted to {outputFile}\")"
   ]
  }
 ],
 "metadata": {
  "kernelspec": {
   "display_name": "virtualEnviroment",
   "language": "python",
   "name": "python3"
  },
  "language_info": {
   "codemirror_mode": {
    "name": "ipython",
    "version": 3
   },
   "file_extension": ".py",
   "mimetype": "text/x-python",
   "name": "python",
   "nbconvert_exporter": "python",
   "pygments_lexer": "ipython3",
   "version": "3.11.9"
  }
 },
 "nbformat": 4,
 "nbformat_minor": 2
}
