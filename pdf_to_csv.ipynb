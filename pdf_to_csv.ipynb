{
 "cells": [
  {
   "cell_type": "code",
   "execution_count": 2,
   "metadata": {},
   "outputs": [],
   "source": [
    "import pandas as pd\n",
    "import pdfplumber\n",
    "from tabulate import tabulate\n",
    "import csv"
   ]
  },
  {
   "cell_type": "code",
   "execution_count": 16,
   "metadata": {},
   "outputs": [],
   "source": [
    "inputFile = './dataFile/edliz.pdf'\n",
    "outputFile = './diseaseAndSymptoms.txt'"
   ]
  },
  {
   "cell_type": "code",
   "execution_count": null,
   "metadata": {},
   "outputs": [],
   "source": [
    "data = []\n",
    "\n",
    "with pdfplumber.open(inputFile) as pdf:\n",
    "    for page_num, page in enumerate(pdf.pages[17:432], start=432): \n",
    "        text = page.extract_text() or \"No text found\"\n",
    "        \n",
    "        # Extract tables and safely convert None values to empty strings\n",
    "        tables = page.extract_tables()\n",
    "        formatted_tables = []\n",
    "        \n",
    "        for table in tables:\n",
    "            cleaned_table = [[cell if cell is not None else \"\" for cell in row] for row in table]\n",
    "            formatted_tables.append(tabulate(cleaned_table, tablefmt=\"grid\", showindex=False, headers=\"firstrow\"))\n",
    "        \n",
    "        table_str = \"\\n\\n\".join(formatted_tables) if formatted_tables else \"\"\n",
    "        \n",
    "        # Append data as a new row\n",
    "        data.append([ text, table_str])\n",
    "\n",
    "        print(f\"Text: {text}...\")  \n",
    "        print(f\"Table:\\n{table_str}\")\n",
    "\n",
    "# Convert to DataFrame & Save to txt file\n",
    "df = pd.DataFrame(data)\n",
    "df.to_csv(outputFile, index=False)\n",
    "\n",
    "print(f\"\\n✅ Data successfully extracted to {outputFile}\")"
   ]
  }
 ],
 "metadata": {
  "kernelspec": {
   "display_name": "virtualEnviroment",
   "language": "python",
   "name": "python3"
  },
  "language_info": {
   "codemirror_mode": {
    "name": "ipython",
    "version": 3
   },
   "file_extension": ".py",
   "mimetype": "text/x-python",
   "name": "python",
   "nbconvert_exporter": "python",
   "pygments_lexer": "ipython3",
   "version": "3.11.9"
  }
 },
 "nbformat": 4,
 "nbformat_minor": 2
}
