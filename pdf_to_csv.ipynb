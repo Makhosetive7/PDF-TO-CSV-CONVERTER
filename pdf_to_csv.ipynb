{
 "cells": [
  {
   "cell_type": "code",
   "execution_count": 1,
   "metadata": {},
   "outputs": [],
   "source": [
    "import pandas as pd\n",
    "import pdfplumber\n",
    "from tabulate import tabulate\n",
    "import csv"
   ]
  },
  {
   "cell_type": "code",
   "execution_count": 2,
   "metadata": {},
   "outputs": [],
   "source": [
    "inputFile = './dataFile/edliz.pdf'\n",
    "outputFile = './diseaseAndSymptoms.csv'"
   ]
  },
  {
   "cell_type": "code",
   "execution_count": 5,
   "metadata": {},
   "outputs": [
    {
     "name": "stdout",
     "output_type": "stream",
     "text": [
      "Text: Nausea and Vomiting in Pregnancy\n",
      "If during the first trimester and if vomiting is not excessive, advise\n",
      "small frequent bland meals and drinks.\n",
      "Antacids may give symptomatic relief if gastritis is present. If vomiting\n",
      "persists, look for underlying cause e.g. urinary tract infection, molar\n",
      "pregnancy, and multiple pregnancies.\n",
      "Give:\n",
      "Medicine Codes Adult Frequency Duration\n",
      "dose\n",
      "promethazine po C N 25mg once at night* as required\n",
      "or chlorpheniramine po C E 4mg once at night* 5 days\n",
      "or metoclopramide C N 10mg 3 times a day as required\n",
      "*Note: If severe, the dose may be given two to three times a day.\n",
      "Hyperemesis Gravidarum (Vomiting and Dehydration)\n",
      "Admit or refer for intravenous fluids and give:\n",
      "Medicine Codes Adult Frequency Duration\n",
      "dose\n",
      "prochlorperazine im B E 12.5mg twice a day as needed\n",
      "or promethazine im B V 25mg twice a day as needed\n",
      "For reducing the risk of neural tube defects\n",
      "Medicine Codes Adult dose Frequency Duration\n",
      "folic acid po C E 5mg once a day Preconceptionally\n",
      "and up to 3\n",
      "months of\n",
      "pregnancy\n",
      "Anaemia during Pregnancy\n",
      "Prophylaxis in Antenatal Care\n",
      "Medicine Codes Adult dose Frequency Duration\n",
      "ferrous sulphate po C E 200mg once a day Throughout\n",
      "pregnancy\n",
      "and folic acid po C E 5mg once a week Throughout\n",
      "pregnancy\n",
      "or Combined ferrous and C E Once daily Throughout\n",
      "folic acid po pregnancy\n",
      "* Start at booking for antenatal care. Continue prophylaxis for 6 weeks\n",
      "after delivery. Also give dietary advice.\n",
      "Treatment of Microcytic Anaemia\n",
      "75...\n",
      "Table:\n",
      "\n",
      "\n",
      "✅ Data successfully extracted to ./diseaseAndSymptoms.csv\n"
     ]
    }
   ],
   "source": [
    "data = []\n",
    "\n",
    "with pdfplumber.open(inputFile) as pdf:\n",
    "    for page_num, page in enumerate(pdf.pages[90:91], start=91): \n",
    "        text = page.extract_text() or \"No text found\"\n",
    "        \n",
    "        # Extract tables and safely convert None values to empty strings\n",
    "        tables = page.extract_tables()\n",
    "        formatted_tables = []\n",
    "        \n",
    "        for table in tables:\n",
    "            cleaned_table = [[cell if cell is not None else \"\" for cell in row] for row in table]\n",
    "            formatted_tables.append(tabulate(cleaned_table, tablefmt=\"grid\", showindex=False, headers=\"firstrow\"))\n",
    "        \n",
    "        table_str = \"\\n\\n\".join(formatted_tables) if formatted_tables else \"\"\n",
    "        \n",
    "        # Append data as a new row\n",
    "        data.append([ text, table_str])\n",
    "\n",
    "        print(f\"Text: {text}...\")  \n",
    "        print(f\"Table:\\n{table_str}\")\n",
    "\n",
    "# Convert to DataFrame & Save to CSV\n",
    "df = pd.DataFrame(data)\n",
    "df.to_csv(outputFile, index=False)\n",
    "\n",
    "print(f\"\\n✅ Data successfully extracted to {outputFile}\")"
   ]
  }
 ],
 "metadata": {
  "kernelspec": {
   "display_name": "virtualEnviroment",
   "language": "python",
   "name": "python3"
  },
  "language_info": {
   "codemirror_mode": {
    "name": "ipython",
    "version": 3
   },
   "file_extension": ".py",
   "mimetype": "text/x-python",
   "name": "python",
   "nbconvert_exporter": "python",
   "pygments_lexer": "ipython3",
   "version": "3.11.9"
  }
 },
 "nbformat": 4,
 "nbformat_minor": 2
}
